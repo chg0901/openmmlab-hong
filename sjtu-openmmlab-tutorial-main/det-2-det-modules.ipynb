{
 "cells": [
  {
   "cell_type": "markdown",
   "id": "65f3c082-63ef-4f91-bfa5-3d2bf2d84c62",
   "metadata": {},
   "source": [
    "# Understand Standard Modules in a Detector"
   ]
  },
  {
   "cell_type": "markdown",
   "id": "71375de8-ba5c-49bb-bc9e-333eaa6553cc",
   "metadata": {},
   "source": [
    "A detector usually consists of:\n",
    "\n",
    "- a backbone, to generate multi-stage feature maps\n",
    "- a feature pyramid network, to fuse features of different stages\n",
    "- a dense prediction head, to predict object at different locations\n",
    "- (optinally) sparse head for two-stage and multi-stage detectors\n",
    "\n",
    "This image is from YOLO v4\n",
    "\n",
    "![](https://miro.medium.com/max/720/1*Z5GOPYFgh7_NTr7drt45mw.png)"
   ]
  },
  {
   "cell_type": "markdown",
   "id": "8b420800-f32c-4195-9a06-d3cc9d16f55f",
   "metadata": {},
   "source": [
    "In MMDetection, components are defined in `model` key in the config file.\n",
    "\n",
    "In this notebook, we investigate these modules interatively, and understand the connection between Python modules and config files. \n",
    "\n",
    "We use RetinaNet and FCOS as example.\n",
    "\n",
    "Architecture: \n",
    "\n",
    "<img src=\"https://production-media.paperswithcode.com/methods/Screen_Shot_2020-06-23_at_3.34.09_PM_SAg1OBo.png\" alt=\"Architecture\" style=\"width: 800px;\"/>"
   ]
  },
  {
   "cell_type": "markdown",
   "id": "bae3fd61-8371-4283-af8c-61644047ef4b",
   "metadata": {},
   "source": [
    "## Backbone\n",
    "\n",
    "We define a ResNet backbone that output feature map C2 to C5.\n",
    "\n",
    "Here index 0 indicates C2."
   ]
  },
  {
   "cell_type": "code",
   "execution_count": 1,
   "id": "8fe59c3d-b8ea-4f54-a307-330c99d3b9ad",
   "metadata": {},
   "outputs": [],
   "source": [
    "from mmdet.models.backbones import ResNet\n",
    "\n",
    "backbone = ResNet(depth=18, out_indices=(0,1,2,3))"
   ]
  },
  {
   "cell_type": "markdown",
   "id": "9ab16a77-b8d8-459c-9240-119b565310a8",
   "metadata": {},
   "source": [
    "We forward a random tensor and check the output"
   ]
  },
  {
   "cell_type": "code",
   "execution_count": 2,
   "id": "0b2c49cf-7925-478c-8207-e464f4fbe193",
   "metadata": {},
   "outputs": [],
   "source": [
    "import torch\n",
    "\n",
    "img = torch.rand(1,3,1000,600)"
   ]
  },
  {
   "cell_type": "code",
   "execution_count": 3,
   "id": "eda9ab5d-204a-44bc-9431-b7dd21634f37",
   "metadata": {},
   "outputs": [],
   "source": [
    "bbout = backbone(img)"
   ]
  },
  {
   "cell_type": "code",
   "execution_count": 4,
   "id": "4c112978-2159-41e0-b69f-bd45035484da",
   "metadata": {},
   "outputs": [
    {
     "name": "stdout",
     "output_type": "stream",
     "text": [
      "torch.Size([1, 64, 250, 150])\n",
      "torch.Size([1, 128, 125, 75])\n",
      "torch.Size([1, 256, 63, 38])\n",
      "torch.Size([1, 512, 32, 19])\n"
     ]
    }
   ],
   "source": [
    "for o in bbout:\n",
    "    print(o.shape)"
   ]
  },
  {
   "cell_type": "markdown",
   "id": "952b11b3-49b5-4129-986c-a8f6f915cb38",
   "metadata": {},
   "source": [
    "These tensors are downsampled from 4x to 32x respectively. "
   ]
  },
  {
   "cell_type": "markdown",
   "id": "55338895-cf92-4454-bb3a-7ffc57bff36d",
   "metadata": {},
   "source": [
    "## Neck\n",
    "\n",
    "We define a plain feature pyramid network to fuse different modules. \n",
    "\n",
    "`start_level=1` means index 1 from the backbone, which is C3. "
   ]
  },
  {
   "cell_type": "code",
   "execution_count": 5,
   "id": "48abfc63-9d84-4ca6-8d8f-668962ae9763",
   "metadata": {},
   "outputs": [],
   "source": [
    "from mmdet.models.necks import FPN"
   ]
  },
  {
   "cell_type": "code",
   "execution_count": 6,
   "id": "8e2c5b18-c558-481f-b147-fbf88c4cfc61",
   "metadata": {},
   "outputs": [],
   "source": [
    "neck = FPN(in_channels=[64, 128, 256, 512], start_level=1, out_channels=256, num_outs=5)"
   ]
  },
  {
   "cell_type": "code",
   "execution_count": 7,
   "id": "f0c96a1c-c9c1-4a1a-a5b4-ed38e546e720",
   "metadata": {},
   "outputs": [
    {
     "name": "stdout",
     "output_type": "stream",
     "text": [
      "torch.Size([1, 256, 125, 75])\n",
      "torch.Size([1, 256, 63, 38])\n",
      "torch.Size([1, 256, 32, 19])\n",
      "torch.Size([1, 256, 16, 10])\n",
      "torch.Size([1, 256, 8, 5])\n"
     ]
    }
   ],
   "source": [
    "ncout = neck(bbout)\n",
    "\n",
    "for o in ncout:\n",
    "    print(o.shape)"
   ]
  },
  {
   "cell_type": "markdown",
   "id": "1cda2a5b-072b-4d25-9212-42e8bce52697",
   "metadata": {},
   "source": [
    "The neck outputs fused features of all 5 levels, with same number of channels. \n",
    "Down-sampling rates ranges from 8x to 128x."
   ]
  },
  {
   "cell_type": "markdown",
   "id": "ebab7af5-40ef-4371-8480-0582aa674878",
   "metadata": {},
   "source": [
    "## Anchor-free Heads\n",
    "\n",
    "An anchor-free head slides on the feature map and compute predictions directly (compared to anchor-based heads which compute prediction referenced to anchors)."
   ]
  },
  {
   "cell_type": "code",
   "execution_count": 8,
   "id": "9649790c-5227-4225-bf0c-15ba85895da4",
   "metadata": {},
   "outputs": [],
   "source": [
    "from mmdet.models.dense_heads import FCOSHead"
   ]
  },
  {
   "cell_type": "code",
   "execution_count": 9,
   "id": "e7c40443-5db1-430f-b7eb-0845ed727118",
   "metadata": {},
   "outputs": [],
   "source": [
    "head = FCOSHead(num_classes=20, in_channels=256)"
   ]
  },
  {
   "cell_type": "code",
   "execution_count": 10,
   "id": "827cdcab-f690-440a-bb75-4c29824ee9d3",
   "metadata": {},
   "outputs": [
    {
     "name": "stdout",
     "output_type": "stream",
     "text": [
      "type: <class 'tuple'>\n",
      "length: 3\n"
     ]
    }
   ],
   "source": [
    "hout = head(ncout)\n",
    "\n",
    "print(F\"type: {type(hout)}\")\n",
    "print(F\"length: {len(hout)}\")"
   ]
  },
  {
   "cell_type": "code",
   "execution_count": 11,
   "id": "0bc6a519-4124-4601-9022-dce1e90e50f0",
   "metadata": {},
   "outputs": [
    {
     "name": "stdout",
     "output_type": "stream",
     "text": [
      "torch.Size([1, 20, 125, 75])\n",
      "torch.Size([1, 20, 63, 38])\n",
      "torch.Size([1, 20, 32, 19])\n",
      "torch.Size([1, 20, 16, 10])\n",
      "torch.Size([1, 20, 8, 5])\n",
      "torch.Size([1, 4, 125, 75])\n",
      "torch.Size([1, 4, 63, 38])\n",
      "torch.Size([1, 4, 32, 19])\n",
      "torch.Size([1, 4, 16, 10])\n",
      "torch.Size([1, 4, 8, 5])\n",
      "torch.Size([1, 1, 125, 75])\n",
      "torch.Size([1, 1, 63, 38])\n",
      "torch.Size([1, 1, 32, 19])\n",
      "torch.Size([1, 1, 16, 10])\n",
      "torch.Size([1, 1, 8, 5])\n"
     ]
    }
   ],
   "source": [
    "for res in hout:\n",
    "    for o in res:\n",
    "        print(o.shape)"
   ]
  },
  {
   "cell_type": "markdown",
   "id": "6bc9f367-8836-405c-94a5-b5f0d8aca11d",
   "metadata": {},
   "source": [
    "FCOS head predict:\n",
    "\n",
    "- Class probabilities of 20 dimension\n",
    "- Bounding box coodinates of 4 dimension \n",
    "- Centereness of 1 dimension \n",
    "\n",
    "at all positions on all levels of feature maps.\n",
    "\n",
    "\n",
    "During inference, post-processing like thresholding and NMS will produce final detection boxes. \n",
    "\n",
    "During training, predictions will be compared with ground-truth to produce loss"
   ]
  },
  {
   "cell_type": "markdown",
   "id": "d83b2855-b4a4-47a1-9e82-4db27d29c139",
   "metadata": {},
   "source": [
    "## Anchor-based Heads\n",
    "\n",
    "Anchor-based head is programmingly more complex as it contains an anchor generation module. Let's investigate this first. "
   ]
  },
  {
   "cell_type": "code",
   "execution_count": 12,
   "id": "5ff57bb0-d8a5-4098-aeb4-430bb0f261ea",
   "metadata": {},
   "outputs": [],
   "source": [
    "from mmdet.core.anchor import AnchorGenerator\n",
    "# from mmdet.models.task_modules import AnchorGenerator # for v2.0\n",
    "\n",
    "ag = AnchorGenerator(\n",
    "            scales=[8],\n",
    "            ratios=[0.5, 1.0, 2.0],\n",
    "            strides=[4, 8, 16, 32, 64])"
   ]
  },
  {
   "cell_type": "code",
   "execution_count": 13,
   "id": "0ebd8a6c-5eee-40ea-9d33-92d4e3f120cb",
   "metadata": {},
   "outputs": [
    {
     "name": "stdout",
     "output_type": "stream",
     "text": [
      "[tensor([[-22.6274, -11.3137,  22.6274,  11.3137],\n",
      "        [-16.0000, -16.0000,  16.0000,  16.0000],\n",
      "        [-11.3137, -22.6274,  11.3137,  22.6274]]), tensor([[-45.2548, -22.6274,  45.2548,  22.6274],\n",
      "        [-32.0000, -32.0000,  32.0000,  32.0000],\n",
      "        [-22.6274, -45.2548,  22.6274,  45.2548]]), tensor([[-90.5097, -45.2548,  90.5097,  45.2548],\n",
      "        [-64.0000, -64.0000,  64.0000,  64.0000],\n",
      "        [-45.2548, -90.5097,  45.2548,  90.5097]]), tensor([[-181.0193,  -90.5097,  181.0193,   90.5097],\n",
      "        [-128.0000, -128.0000,  128.0000,  128.0000],\n",
      "        [ -90.5097, -181.0193,   90.5097,  181.0193]]), tensor([[-362.0387, -181.0193,  362.0387,  181.0193],\n",
      "        [-256.0000, -256.0000,  256.0000,  256.0000],\n",
      "        [-181.0193, -362.0387,  181.0193,  362.0387]])]\n"
     ]
    }
   ],
   "source": [
    "bbx = ag.single_level_grid_priors(featmap_size=(125,75), level_idx=1)\n",
    "bbx = ag.gen_base_anchors()\n",
    "print(bbx)"
   ]
  },
  {
   "cell_type": "code",
   "execution_count": 14,
   "id": "5e018ebd-fae2-42f0-9ff0-06d7d37c0f42",
   "metadata": {},
   "outputs": [
    {
     "name": "stderr",
     "output_type": "stream",
     "text": [
      "C:\\Users\\wangruohui\\Miniconda3\\envs\\mm\\lib\\site-packages\\mmengine\\visualization\\visualizer.py:170: UserWarning: `Visualizer` backend is not initialized because save_dir is None.\n",
      "  warnings.warn('`Visualizer` backend is not initialized '\n"
     ]
    },
    {
     "data": {
      "image/png": "[encoded data removed]",
      "text/plain": [
       "<Figure size 640x480 with 1 Axes>"
      ]
     },
     "execution_count": 14,
     "metadata": {},
     "output_type": "execute_result"
    }
   ],
   "source": [
    "from mmengine.visualization import Visualizer\n",
    "import numpy as np\n",
    "\n",
    "vis = Visualizer(image = np.ones((1000,1000,3))*255)\n",
    "for b in bbx:\n",
    "    vis.draw_bboxes(b+500)\n",
    "vis.show()"
   ]
  },
  {
   "cell_type": "markdown",
   "id": "7b5ec0f6-b715-4783-b9d2-4b98fe02d480",
   "metadata": {},
   "source": [
    "Anchors of different size will be assigned to feature maps of different levels."
   ]
  },
  {
   "cell_type": "markdown",
   "id": "6cb677e8-00d0-43d8-baee-31d977802721",
   "metadata": {},
   "source": [
    "We then construct an anchor-based head based on this anchor generator."
   ]
  },
  {
   "cell_type": "code",
   "execution_count": 15,
   "id": "2f48c578-a2f0-49bc-a8f1-f67c5236e2b0",
   "metadata": {},
   "outputs": [],
   "source": [
    "from mmdet.models.dense_heads import RetinaHead\n",
    "abhead = RetinaHead(in_channels=256, \n",
    "                    num_classes=20,\n",
    "                    anchor_generator=dict(\n",
    "                        type='AnchorGenerator',\n",
    "                        octave_base_scale=4,\n",
    "                        scales_per_octave=3,\n",
    "                        ratios=[0.5, 1.0, 2.0],\n",
    "                        strides=[8, 16, 32, 64, 128]))"
   ]
  },
  {
   "cell_type": "code",
   "execution_count": 16,
   "id": "719cf78b-87e8-4ee4-86fb-1a92d764038a",
   "metadata": {},
   "outputs": [],
   "source": [
    "from mmdet.models.dense_heads import RPNHead\n",
    "abhead = RPNHead(in_channels=256, \n",
    "                 anchor_generator=dict(\n",
    "                    type='AnchorGenerator',\n",
    "                    scales=[8, 16, 32],\n",
    "                    ratios=[0.5, 1.0, 2.0],\n",
    "                    strides=[8, 16, 32, 64, 128]))"
   ]
  },
  {
   "cell_type": "code",
   "execution_count": 17,
   "id": "8690c963-1d3a-4955-af3e-0f5092f67cd8",
   "metadata": {},
   "outputs": [],
   "source": [
    "out = abhead(ncout)\n",
    "cls, bbx = out"
   ]
  },
  {
   "cell_type": "code",
   "execution_count": 18,
   "id": "d0fcccfa-8f88-4363-833a-1a0442ceac97",
   "metadata": {},
   "outputs": [
    {
     "name": "stdout",
     "output_type": "stream",
     "text": [
      "torch.Size([1, 9, 125, 75])\n",
      "torch.Size([1, 9, 63, 38])\n",
      "torch.Size([1, 9, 32, 19])\n",
      "torch.Size([1, 9, 16, 10])\n",
      "torch.Size([1, 9, 8, 5])\n"
     ]
    }
   ],
   "source": [
    "for o in cls:\n",
    "    print(o.shape)"
   ]
  },
  {
   "cell_type": "code",
   "execution_count": 19,
   "id": "cb5dac5b-5014-4c34-99a4-35d646b4fded",
   "metadata": {},
   "outputs": [
    {
     "name": "stdout",
     "output_type": "stream",
     "text": [
      "torch.Size([1, 36, 125, 75])\n",
      "torch.Size([1, 36, 63, 38])\n",
      "torch.Size([1, 36, 32, 19])\n",
      "torch.Size([1, 36, 16, 10])\n",
      "torch.Size([1, 36, 8, 5])\n"
     ]
    }
   ],
   "source": [
    "for o in bbx:\n",
    "    print(o.shape)"
   ]
  },
  {
   "cell_type": "code",
   "execution_count": null,
   "id": "837d9a27-6b68-4f03-afe5-902710d4fc8d",
   "metadata": {},
   "outputs": [],
   "source": []
  }
 ],
 "metadata": {
  "kernelspec": {
   "display_name": "Python 3 (ipykernel)",
   "language": "python",
   "name": "python3"
  },
  "language_info": {
   "codemirror_mode": {
    "name": "ipython",
    "version": 3
   },
   "file_extension": ".py",
   "mimetype": "text/x-python",
   "name": "python",
   "nbconvert_exporter": "python",
   "pygments_lexer": "ipython3",
   "version": "3.8.13"
  },
  "vscode": {
   "interpreter": {
    "hash": "e678ac14dff038bc46ab45f1b54ebd32d0ce2b34611f4e1e107e2941d3b654ca"
   }
  }
 },
 "nbformat": 4,
 "nbformat_minor": 5
}
